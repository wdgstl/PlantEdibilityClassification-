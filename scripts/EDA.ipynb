{
 "cells": [
  {
   "cell_type": "markdown",
   "id": "c86c2028",
   "metadata": {},
   "source": [
    "Extract \"102flowers.tgz\" to the \"102flowers_extracted\" folder inside the \"102flowers_data_extracted\" folder"
   ]
  },
  {
   "cell_type": "code",
   "execution_count": 1,
   "id": "137ac448",
   "metadata": {},
   "outputs": [
    {
     "name": "stdout",
     "output_type": "stream",
     "text": [
      "Extracted ../102flowers_data/102flowers.tgz to ../102flowers_data/102flowers_extracted\n"
     ]
    }
   ],
   "source": [
    "import tarfile\n",
    "import os\n",
    "\n",
    "tgz_path = \"../102flowers_data/102flowers.tgz\"\n",
    "extract_folder = \"../102flowers_data/102flowers_extracted\"\n",
    "\n",
    "# create the folder if it doesn't exist\n",
    "os.makedirs(extract_folder, exist_ok=True)\n",
    "\n",
    "# extract .tgz file\n",
    "with tarfile.open(tgz_path, \"r:gz\") as tar:\n",
    "    tar.extractall(path=extract_folder)\n",
    "\n",
    "print(f\"Extracted {tgz_path} to {extract_folder}\")\n",
    "\n",
    "# both `102flowers_data/102flowers.tgz` and `102flowers_data/jpg/` should be in .gitignore so large files do not get pushed up to remote"
   ]
  },
  {
   "cell_type": "markdown",
   "id": "22b5fa92",
   "metadata": {},
   "source": [
    "Add \"102flowers_extracted\" to .gitignore"
   ]
  },
  {
   "cell_type": "code",
   "execution_count": 2,
   "id": "b776cd09",
   "metadata": {},
   "outputs": [
    {
     "name": "stdout",
     "output_type": "stream",
     "text": [
      "Entry already exists in .gitignore\n"
     ]
    }
   ],
   "source": [
    "gitignore_path = \"../.gitignore\"\n",
    "ignore_entry = \"102flowers_data/102flowers_extracted/\\n\"\n",
    "\n",
    "# read and check existing .gitignore content\n",
    "with open(gitignore_path, \"r\") as f:\n",
    "    lines = f.readlines()\n",
    "\n",
    "# add entry if it's not already in the file\n",
    "if ignore_entry not in lines:\n",
    "    with open(gitignore_path, \"a\") as f:\n",
    "        f.write(ignore_entry)\n",
    "    print(\"Added '102flowers_data/102flowers_extracted/' to .gitignore\")\n",
    "else:\n",
    "    print(\"Entry already exists in .gitignore\")"
   ]
  },
  {
   "cell_type": "markdown",
   "id": "a29b6b54",
   "metadata": {},
   "source": [
    "Load and examine \"imagelabels.mat\""
   ]
  },
  {
   "cell_type": "code",
   "execution_count": 4,
   "id": "fb919fd2",
   "metadata": {},
   "outputs": [
    {
     "name": "stdout",
     "output_type": "stream",
     "text": [
      "Keys in .mat file: dict_keys(['__header__', '__version__', '__globals__', 'labels'])\n",
      "Total labels: 8189\n",
      "Label sample (first 20): [77 77 77 77 77 77 77 77 77 77 77 77 77 77 77 77 77 77 77 77]\n",
      "Unique categories: 102\n"
     ]
    }
   ],
   "source": [
    "from scipy.io import loadmat\n",
    "import numpy as np\n",
    "\n",
    "# load the .mat file\n",
    "mat_path = \"../102flowers_data/imagelabels.mat\"\n",
    "data = loadmat(mat_path)\n",
    "\n",
    "# check keys\n",
    "print(\"Keys in .mat file:\", data.keys())\n",
    "\n",
    "# access image labels\n",
    "if 'labels' in data:\n",
    "    labels = data['labels']\n",
    "else:\n",
    "    labels = None\n",
    "    print(\"Label key not found.\")\n",
    "\n",
    "# inspect labels\n",
    "if labels is not None:\n",
    "    labels = np.squeeze(labels)\n",
    "    print(f\"Total labels: {len(labels)}\")\n",
    "    print(f\"Label sample (first 20): {labels[:20]}\")\n",
    "    print(f\"Unique categories: {len(np.unique(labels))}\")"
   ]
  }
 ],
 "metadata": {
  "kernelspec": {
   "display_name": "base",
   "language": "python",
   "name": "python3"
  },
  "language_info": {
   "codemirror_mode": {
    "name": "ipython",
    "version": 3
   },
   "file_extension": ".py",
   "mimetype": "text/x-python",
   "name": "python",
   "nbconvert_exporter": "python",
   "pygments_lexer": "ipython3",
   "version": "3.11.5"
  }
 },
 "nbformat": 4,
 "nbformat_minor": 5
}
