{
 "cells": [
  {
   "cell_type": "code",
   "execution_count": 2,
   "metadata": {},
   "outputs": [],
   "source": [
    "import pandas as pd\n",
    "import os\n",
    "import json\n",
    "\n",
    "def load_parquets(path_to_test_parquets, class_mapping_path):\n",
    "    dfs = []\n",
    "    for filename in os.listdir(path_to_test_parquets):\n",
    "        if filename.endswith(\".parquet\"):\n",
    "            file_path = os.path.join(path_to_test_parquets, filename)\n",
    "            print(f\"Processing: {file_path}\")\n",
    "            df = pd.read_parquet(file_path)\n",
    "            dfs.append(df)\n",
    "        full_df_test = pd.concat(dfs, ignore_index=True)\n",
    "    with open(class_mapping_path) as f:\n",
    "        species_dict = json.load(f)\n",
    "        i = 0\n",
    "        map_from_df_to_map = {}\n",
    "        for key in species_dict:\n",
    "            map_from_df_to_map[i] = key\n",
    "            i+=1\n",
    "        full_df_test['species_true'] = full_df_test['label'].map(lambda x: species_dict.get(map_from_df_to_map.get(x)))\n",
    "    return full_df_test"
   ]
  },
  {
   "cell_type": "code",
   "execution_count": 3,
   "metadata": {},
   "outputs": [
    {
     "name": "stdout",
     "output_type": "stream",
     "text": [
      "Processing: /Users/wdgstl/UVA/PlantEdibilityClassification-/data/test_parquets/test-00007-of-00008-8caa262cecd65437.parquet\n",
      "Processing: /Users/wdgstl/UVA/PlantEdibilityClassification-/data/test_parquets/test-00000-of-00008-ccdf9a8395f11a02.parquet\n",
      "Processing: /Users/wdgstl/UVA/PlantEdibilityClassification-/data/test_parquets/test-00002-of-00008-952e223123a49903.parquet\n",
      "Processing: /Users/wdgstl/UVA/PlantEdibilityClassification-/data/test_parquets/test-00001-of-00008-4cc7b1523923ba5e.parquet\n",
      "Processing: /Users/wdgstl/UVA/PlantEdibilityClassification-/data/test_parquets/test-00006-of-00008-5932eb3f032283e1.parquet\n",
      "Processing: /Users/wdgstl/UVA/PlantEdibilityClassification-/data/test_parquets/test-00004-of-00008-6882acfdcab0bbdd.parquet\n",
      "Processing: /Users/wdgstl/UVA/PlantEdibilityClassification-/data/test_parquets/test-00005-of-00008-f6f2fd539fae591e.parquet\n",
      "Processing: /Users/wdgstl/UVA/PlantEdibilityClassification-/data/test_parquets/test-00003-of-00008-4e3b69c54dfa5948.parquet\n"
     ]
    }
   ],
   "source": [
    "df = load_parquets('/Users/wdgstl/UVA/PlantEdibilityClassification-/data/test_parquets', '/Users/wdgstl/UVA/PlantEdibilityClassification-/backend/data/class_mapping/plantnet300K_species_names.json')"
   ]
  },
  {
   "cell_type": "code",
   "execution_count": 4,
   "metadata": {},
   "outputs": [
    {
     "data": {
      "text/plain": [
       "species_true\n",
       "Daucus_carota              902\n",
       "Alliaria_petiolata         858\n",
       "Hypericum_perforatum       767\n",
       "Centranthus_ruber          668\n",
       "Cirsium_vulgare            648\n",
       "                          ... \n",
       "Schinopsis_balansae          1\n",
       "Smilax_china                 1\n",
       "Barringtonia_acutangula      1\n",
       "Thesium_linophyllon          1\n",
       "Trifolium_spumosum           1\n",
       "Name: count, Length: 1019, dtype: int64"
      ]
     },
     "execution_count": 4,
     "metadata": {},
     "output_type": "execute_result"
    }
   ],
   "source": [
    "species_counts = df['species_true'].value_counts()\n",
    "species_counts"
   ]
  },
  {
   "cell_type": "code",
   "execution_count": 5,
   "metadata": {},
   "outputs": [],
   "source": [
    "most_prevalent_species = species_counts.head(1)\n",
    "least_prevalent_species = species_counts.tail(1)"
   ]
  },
  {
   "cell_type": "code",
   "execution_count": 6,
   "metadata": {},
   "outputs": [
    {
     "name": "stdout",
     "output_type": "stream",
     "text": [
      "Most prevalent: species_true\n",
      "Daucus_carota    902\n",
      "Name: count, dtype: int64\n",
      "Least prevalent: species_true\n",
      "Trifolium_spumosum    1\n",
      "Name: count, dtype: int64\n"
     ]
    }
   ],
   "source": [
    "print(f'Most prevalent: {most_prevalent_species}')\n",
    "print(f'Least prevalent: {least_prevalent_species}')"
   ]
  },
  {
   "cell_type": "code",
   "execution_count": 7,
   "metadata": {},
   "outputs": [],
   "source": [
    "species_counts.to_csv('../output/species_counts.csv')"
   ]
  },
  {
   "cell_type": "code",
   "execution_count": 8,
   "metadata": {},
   "outputs": [],
   "source": [
    "df['genus'] = df['species_true'].str.split('_').str[0]"
   ]
  },
  {
   "cell_type": "code",
   "execution_count": 9,
   "metadata": {},
   "outputs": [
    {
     "data": {
      "text/plain": [
       "genus\n",
       "Trifolium      1855\n",
       "Sedum          1721\n",
       "Anemone        1628\n",
       "Lamium         1552\n",
       "Cirsium        1525\n",
       "               ... \n",
       "Zaleya            1\n",
       "Vepris            1\n",
       "Freycinetia       1\n",
       "Stemodia          1\n",
       "Alibertia         1\n",
       "Name: count, Length: 303, dtype: int64"
      ]
     },
     "execution_count": 9,
     "metadata": {},
     "output_type": "execute_result"
    }
   ],
   "source": [
    "genus_counts = df['genus'].value_counts()\n",
    "genus_counts"
   ]
  },
  {
   "cell_type": "code",
   "execution_count": 10,
   "metadata": {},
   "outputs": [],
   "source": [
    "genus_counts.to_csv('../output/genus_counts.csv')"
   ]
  },
  {
   "cell_type": "code",
   "execution_count": 11,
   "metadata": {},
   "outputs": [
    {
     "name": "stdout",
     "output_type": "stream",
     "text": [
      "Most prevalent: genus\n",
      "Trifolium    1855\n",
      "Name: count, dtype: int64\n",
      "Least prevalent: genus\n",
      "Alibertia    1\n",
      "Name: count, dtype: int64\n"
     ]
    }
   ],
   "source": [
    "most_prevalent_genus = genus_counts.head(1)\n",
    "least_prevalent_genus = genus_counts.tail(1)\n",
    "print(f'Most prevalent: {most_prevalent_genus}')\n",
    "print(f'Least prevalent: {least_prevalent_genus}')"
   ]
  },
  {
   "cell_type": "code",
   "execution_count": 12,
   "metadata": {},
   "outputs": [
    {
     "name": "stdout",
     "output_type": "stream",
     "text": [
      "Number of images: 31112\n",
      "Average width: 569.72 pixels\n",
      "Average height: 569.92 pixels\n",
      "Average total pixels per image: 328006.98\n"
     ]
    }
   ],
   "source": [
    "from PIL import Image\n",
    "from io import BytesIO\n",
    "import numpy as np\n",
    "\n",
    "widths = []\n",
    "heights = []\n",
    "total_pixels = []\n",
    "\n",
    "for idx, row in df.iterrows():\n",
    "    image_bytes = row['image']['bytes']\n",
    "    with Image.open(BytesIO(image_bytes)) as img:\n",
    "        width, height = img.size\n",
    "        widths.append(width)\n",
    "        heights.append(height)\n",
    "        total_pixels.append(width * height)\n",
    "\n",
    "avg_width = np.mean(widths)\n",
    "avg_height = np.mean(heights)\n",
    "avg_pixels = np.mean(total_pixels)\n",
    "\n",
    "print(f\"Number of images: {len(df)}\")\n",
    "print(f\"Average width: {avg_width:.2f} pixels\")\n",
    "print(f\"Average height: {avg_height:.2f} pixels\")\n",
    "print(f\"Average total pixels per image: {avg_pixels:.2f}\")\n",
    "\n",
    "        "
   ]
  }
 ],
 "metadata": {
  "kernelspec": {
   "display_name": "myvenv",
   "language": "python",
   "name": "python3"
  },
  "language_info": {
   "codemirror_mode": {
    "name": "ipython",
    "version": 3
   },
   "file_extension": ".py",
   "mimetype": "text/x-python",
   "name": "python",
   "nbconvert_exporter": "python",
   "pygments_lexer": "ipython3",
   "version": "3.13.1"
  }
 },
 "nbformat": 4,
 "nbformat_minor": 2
}
